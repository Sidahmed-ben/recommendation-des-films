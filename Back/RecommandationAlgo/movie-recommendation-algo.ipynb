{
 "cells": [
  {
   "cell_type": "code",
   "execution_count": 1,
   "id": "02894aa8",
   "metadata": {
    "_cell_guid": "b1076dfc-b9ad-4769-8c92-a6c4dae69d19",
    "_uuid": "8f2839f25d086af736a60e9eeb907d3b93b6e0e5",
    "execution": {
     "iopub.execute_input": "2023-11-06T22:35:44.809588Z",
     "iopub.status.busy": "2023-11-06T22:35:44.809144Z",
     "iopub.status.idle": "2023-11-06T22:36:01.424074Z",
     "shell.execute_reply": "2023-11-06T22:36:01.422930Z"
    },
    "papermill": {
     "duration": 16.626219,
     "end_time": "2023-11-06T22:36:01.428945",
     "exception": false,
     "start_time": "2023-11-06T22:35:44.802726",
     "status": "completed"
    },
    "tags": []
   },
   "outputs": [
    {
     "name": "stdout",
     "output_type": "stream",
     "text": [
      "/kaggle/input/movies-dataset/movies.csv\n",
      "/kaggle/input/ratings-dataset/ratings.csv\n"
     ]
    }
   ],
   "source": [
    "# This Python 3 environment comes with many helpful analytics libraries installed\n",
    "# It is defined by the kaggle/python Docker image: https://github.com/kaggle/docker-python\n",
    "# For example, here's several helpful packages to load\n",
    "\n",
    "import numpy as np # linear algebra\n",
    "import pandas as pd # data processing, CSV file I/O (e.g. pd.read_csv)\n",
    "import json\n",
    "import csv\n",
    "import os\n",
    "from scipy.sparse import csr_matrix\n",
    "from sklearn.neighbors import NearestNeighbors\n",
    "from fuzzywuzzy import process\n",
    "import spacy\n",
    "from spacy.tokens import Token\n",
    "import pickle as pkl\n",
    "import string\n",
    "from fuzzywuzzy import fuzz\n",
    "\n",
    "\n",
    "\n",
    "\n",
    "# Input data files are available in the read-only \"../input/\" directory\n",
    "# For example, running this (by clicking run or pressing Shift+Enter) will list all files under the input directory\n",
    "\n",
    "#import os\n",
    "for dirname, _, filenames in os.walk('/kaggle/input/'):\n",
    "    for filename in filenames:\n",
    "        print(os.path.join(dirname, filename))\n",
    "        \n",
    "\n",
    "# You can write up to 20GB to the current directory (/kaggle/working/) that gets preserved as output when you create a version using \"Save & Run All\" \n",
    "# You can also write temporary files to /kaggle/temp/, but they won't be saved outside of the current session"
   ]
  },
  {
   "cell_type": "code",
   "execution_count": 2,
   "id": "7f80b2e1",
   "metadata": {
    "execution": {
     "iopub.execute_input": "2023-11-06T22:36:01.440092Z",
     "iopub.status.busy": "2023-11-06T22:36:01.439050Z",
     "iopub.status.idle": "2023-11-06T22:36:01.602449Z",
     "shell.execute_reply": "2023-11-06T22:36:01.601149Z"
    },
    "papermill": {
     "duration": 0.171581,
     "end_time": "2023-11-06T22:36:01.605079",
     "exception": false,
     "start_time": "2023-11-06T22:36:01.433498",
     "status": "completed"
    },
    "tags": []
   },
   "outputs": [
    {
     "name": "stdout",
     "output_type": "stream",
     "text": [
      "   movieId                               title\n",
      "0        1                    Toy Story (1995)\n",
      "1        2                      Jumanji (1995)\n",
      "2        3             Grumpier Old Men (1995)\n",
      "3        4            Waiting to Exhale (1995)\n",
      "4        5  Father of the Bride Part II (1995)\n",
      "(84661, 2)\n"
     ]
    }
   ],
   "source": [
    "movies = pd.read_csv(\"/kaggle/input/movies-dataset/movies.csv\")\n",
    "print(movies.head())\n",
    "print(movies.shape)"
   ]
  },
  {
   "cell_type": "code",
   "execution_count": 3,
   "id": "a5246ce8",
   "metadata": {
    "execution": {
     "iopub.execute_input": "2023-11-06T22:36:01.616603Z",
     "iopub.status.busy": "2023-11-06T22:36:01.615836Z",
     "iopub.status.idle": "2023-11-06T22:36:16.399684Z",
     "shell.execute_reply": "2023-11-06T22:36:16.398547Z"
    },
    "papermill": {
     "duration": 14.792657,
     "end_time": "2023-11-06T22:36:16.402541",
     "exception": false,
     "start_time": "2023-11-06T22:36:01.609884",
     "status": "completed"
    },
    "tags": []
   },
   "outputs": [],
   "source": [
    "ratings = pd.read_csv(\"/kaggle/input/ratings-dataset/ratings.csv\")\n",
    "ratings_half = ratings.head(len(ratings) // 8)"
   ]
  },
  {
   "cell_type": "code",
   "execution_count": 4,
   "id": "c1c74862",
   "metadata": {
    "execution": {
     "iopub.execute_input": "2023-11-06T22:36:16.412971Z",
     "iopub.status.busy": "2023-11-06T22:36:16.412576Z",
     "iopub.status.idle": "2023-11-06T22:36:46.464240Z",
     "shell.execute_reply": "2023-11-06T22:36:46.463295Z"
    },
    "papermill": {
     "duration": 30.059791,
     "end_time": "2023-11-06T22:36:46.466809",
     "exception": false,
     "start_time": "2023-11-06T22:36:16.407018",
     "status": "completed"
    },
    "tags": []
   },
   "outputs": [],
   "source": [
    "movies_users = ratings_half.pivot_table(index='userId',columns=\"movieId\", values=\"rating\", aggfunc='mean').fillna(0)\n"
   ]
  },
  {
   "cell_type": "code",
   "execution_count": 5,
   "id": "61c669bc",
   "metadata": {
    "execution": {
     "iopub.execute_input": "2023-11-06T22:36:46.477516Z",
     "iopub.status.busy": "2023-11-06T22:36:46.476900Z",
     "iopub.status.idle": "2023-11-06T22:37:07.504255Z",
     "shell.execute_reply": "2023-11-06T22:37:07.503045Z"
    },
    "papermill": {
     "duration": 21.035894,
     "end_time": "2023-11-06T22:37:07.507268",
     "exception": false,
     "start_time": "2023-11-06T22:36:46.471374",
     "status": "completed"
    },
    "tags": []
   },
   "outputs": [],
   "source": [
    "compressed_movies_users = csr_matrix(movies_users)"
   ]
  },
  {
   "cell_type": "code",
   "execution_count": 6,
   "id": "7d2efa8e",
   "metadata": {
    "execution": {
     "iopub.execute_input": "2023-11-06T22:37:07.517719Z",
     "iopub.status.busy": "2023-11-06T22:37:07.517293Z",
     "iopub.status.idle": "2023-11-06T22:37:07.543807Z",
     "shell.execute_reply": "2023-11-06T22:37:07.542653Z"
    },
    "papermill": {
     "duration": 0.034583,
     "end_time": "2023-11-06T22:37:07.546335",
     "exception": false,
     "start_time": "2023-11-06T22:37:07.511752",
     "status": "completed"
    },
    "tags": []
   },
   "outputs": [
    {
     "data": {
      "text/html": [
       "<style>#sk-container-id-1 {color: black;background-color: white;}#sk-container-id-1 pre{padding: 0;}#sk-container-id-1 div.sk-toggleable {background-color: white;}#sk-container-id-1 label.sk-toggleable__label {cursor: pointer;display: block;width: 100%;margin-bottom: 0;padding: 0.3em;box-sizing: border-box;text-align: center;}#sk-container-id-1 label.sk-toggleable__label-arrow:before {content: \"▸\";float: left;margin-right: 0.25em;color: #696969;}#sk-container-id-1 label.sk-toggleable__label-arrow:hover:before {color: black;}#sk-container-id-1 div.sk-estimator:hover label.sk-toggleable__label-arrow:before {color: black;}#sk-container-id-1 div.sk-toggleable__content {max-height: 0;max-width: 0;overflow: hidden;text-align: left;background-color: #f0f8ff;}#sk-container-id-1 div.sk-toggleable__content pre {margin: 0.2em;color: black;border-radius: 0.25em;background-color: #f0f8ff;}#sk-container-id-1 input.sk-toggleable__control:checked~div.sk-toggleable__content {max-height: 200px;max-width: 100%;overflow: auto;}#sk-container-id-1 input.sk-toggleable__control:checked~label.sk-toggleable__label-arrow:before {content: \"▾\";}#sk-container-id-1 div.sk-estimator input.sk-toggleable__control:checked~label.sk-toggleable__label {background-color: #d4ebff;}#sk-container-id-1 div.sk-label input.sk-toggleable__control:checked~label.sk-toggleable__label {background-color: #d4ebff;}#sk-container-id-1 input.sk-hidden--visually {border: 0;clip: rect(1px 1px 1px 1px);clip: rect(1px, 1px, 1px, 1px);height: 1px;margin: -1px;overflow: hidden;padding: 0;position: absolute;width: 1px;}#sk-container-id-1 div.sk-estimator {font-family: monospace;background-color: #f0f8ff;border: 1px dotted black;border-radius: 0.25em;box-sizing: border-box;margin-bottom: 0.5em;}#sk-container-id-1 div.sk-estimator:hover {background-color: #d4ebff;}#sk-container-id-1 div.sk-parallel-item::after {content: \"\";width: 100%;border-bottom: 1px solid gray;flex-grow: 1;}#sk-container-id-1 div.sk-label:hover label.sk-toggleable__label {background-color: #d4ebff;}#sk-container-id-1 div.sk-serial::before {content: \"\";position: absolute;border-left: 1px solid gray;box-sizing: border-box;top: 0;bottom: 0;left: 50%;z-index: 0;}#sk-container-id-1 div.sk-serial {display: flex;flex-direction: column;align-items: center;background-color: white;padding-right: 0.2em;padding-left: 0.2em;position: relative;}#sk-container-id-1 div.sk-item {position: relative;z-index: 1;}#sk-container-id-1 div.sk-parallel {display: flex;align-items: stretch;justify-content: center;background-color: white;position: relative;}#sk-container-id-1 div.sk-item::before, #sk-container-id-1 div.sk-parallel-item::before {content: \"\";position: absolute;border-left: 1px solid gray;box-sizing: border-box;top: 0;bottom: 0;left: 50%;z-index: -1;}#sk-container-id-1 div.sk-parallel-item {display: flex;flex-direction: column;z-index: 1;position: relative;background-color: white;}#sk-container-id-1 div.sk-parallel-item:first-child::after {align-self: flex-end;width: 50%;}#sk-container-id-1 div.sk-parallel-item:last-child::after {align-self: flex-start;width: 50%;}#sk-container-id-1 div.sk-parallel-item:only-child::after {width: 0;}#sk-container-id-1 div.sk-dashed-wrapped {border: 1px dashed gray;margin: 0 0.4em 0.5em 0.4em;box-sizing: border-box;padding-bottom: 0.4em;background-color: white;}#sk-container-id-1 div.sk-label label {font-family: monospace;font-weight: bold;display: inline-block;line-height: 1.2em;}#sk-container-id-1 div.sk-label-container {text-align: center;}#sk-container-id-1 div.sk-container {/* jupyter's `normalize.less` sets `[hidden] { display: none; }` but bootstrap.min.css set `[hidden] { display: none !important; }` so we also need the `!important` here to be able to override the default hidden behavior on the sphinx rendered scikit-learn.org. See: https://github.com/scikit-learn/scikit-learn/issues/21755 */display: inline-block !important;position: relative;}#sk-container-id-1 div.sk-text-repr-fallback {display: none;}</style><div id=\"sk-container-id-1\" class=\"sk-top-container\"><div class=\"sk-text-repr-fallback\"><pre>NearestNeighbors(algorithm=&#x27;brute&#x27;, metric=&#x27;cosine&#x27;, n_neighbors=10)</pre><b>In a Jupyter environment, please rerun this cell to show the HTML representation or trust the notebook. <br />On GitHub, the HTML representation is unable to render, please try loading this page with nbviewer.org.</b></div><div class=\"sk-container\" hidden><div class=\"sk-item\"><div class=\"sk-estimator sk-toggleable\"><input class=\"sk-toggleable__control sk-hidden--visually\" id=\"sk-estimator-id-1\" type=\"checkbox\" checked><label for=\"sk-estimator-id-1\" class=\"sk-toggleable__label sk-toggleable__label-arrow\">NearestNeighbors</label><div class=\"sk-toggleable__content\"><pre>NearestNeighbors(algorithm=&#x27;brute&#x27;, metric=&#x27;cosine&#x27;, n_neighbors=10)</pre></div></div></div></div></div>"
      ],
      "text/plain": [
       "NearestNeighbors(algorithm='brute', metric='cosine', n_neighbors=10)"
      ]
     },
     "execution_count": 6,
     "metadata": {},
     "output_type": "execute_result"
    }
   ],
   "source": [
    "\n",
    "model = NearestNeighbors(metric='cosine', algorithm='brute', n_neighbors=10)\n",
    "model.fit(compressed_movies_users)"
   ]
  },
  {
   "cell_type": "code",
   "execution_count": 7,
   "id": "08f178bd",
   "metadata": {
    "execution": {
     "iopub.execute_input": "2023-11-06T22:37:07.557350Z",
     "iopub.status.busy": "2023-11-06T22:37:07.556348Z",
     "iopub.status.idle": "2023-11-06T22:37:07.564637Z",
     "shell.execute_reply": "2023-11-06T22:37:07.563363Z"
    },
    "papermill": {
     "duration": 0.016469,
     "end_time": "2023-11-06T22:37:07.567171",
     "exception": false,
     "start_time": "2023-11-06T22:37:07.550702",
     "status": "completed"
    },
    "tags": []
   },
   "outputs": [],
   "source": [
    "def recommander_function(userInd,data,n,model):\n",
    "    distance, indices  = model.kneighbors(data[userInd], n_neighbors=n)\n",
    "    print(distance)\n",
    "    print(indices)\n",
    "    indices = indices[0]\n",
    "    best_movies_ids = []\n",
    "    for i in indices :\n",
    "        similar_users = movies_users.iloc[i]\n",
    "        top_movies = similar_users[similar_users == 5]\n",
    "        best_movies_ids += top_movies.index.tolist()\n",
    "    best_movies_ids = list(set(best_movies_ids))\n",
    "    print(best_movies_ids)\n",
    "    print(movies.loc[best_movies_ids])"
   ]
  },
  {
   "cell_type": "code",
   "execution_count": 8,
   "id": "eef33cac",
   "metadata": {
    "execution": {
     "iopub.execute_input": "2023-11-06T22:37:07.577673Z",
     "iopub.status.busy": "2023-11-06T22:37:07.577297Z",
     "iopub.status.idle": "2023-11-06T22:37:07.705433Z",
     "shell.execute_reply": "2023-11-06T22:37:07.704461Z"
    },
    "papermill": {
     "duration": 0.136388,
     "end_time": "2023-11-06T22:37:07.708008",
     "exception": false,
     "start_time": "2023-11-06T22:37:07.571620",
     "status": "completed"
    },
    "tags": []
   },
   "outputs": [
    {
     "name": "stdout",
     "output_type": "stream",
     "text": [
      "[[0.         0.06774334 0.07773768 0.09498165 0.11751676]]\n",
      "[[    0 15758 12001 22235  5252]]\n",
      "[736, 648, 780, 62, 95]\n",
      "     movieId                                              title\n",
      "736      749                    Man from Down Under, The (1943)\n",
      "648      656                                       Eddie (1996)\n",
      "780      793  My Life and Times With Antonin Artaud (En comp...\n",
      "62        63  Don't Be a Menace to South Central While Drink...\n",
      "95        97                            Hate (Haine, La) (1995)\n"
     ]
    }
   ],
   "source": [
    "recommander_function(0, compressed_movies_users, 5,model)"
   ]
  },
  {
   "cell_type": "code",
   "execution_count": 9,
   "id": "f43cda8b",
   "metadata": {
    "execution": {
     "iopub.execute_input": "2023-11-06T22:37:07.719511Z",
     "iopub.status.busy": "2023-11-06T22:37:07.718649Z",
     "iopub.status.idle": "2023-11-06T22:37:07.800798Z",
     "shell.execute_reply": "2023-11-06T22:37:07.799522Z"
    },
    "papermill": {
     "duration": 0.090764,
     "end_time": "2023-11-06T22:37:07.803646",
     "exception": false,
     "start_time": "2023-11-06T22:37:07.712882",
     "status": "completed"
    },
    "tags": []
   },
   "outputs": [],
   "source": [
    "filename = \"/kaggle/working/NearestNeighborsModelTest\"\n",
    "pickle = pkl.dump(model, open(filename, 'wb'))"
   ]
  }
 ],
 "metadata": {
  "kernelspec": {
   "display_name": "Python 3",
   "language": "python",
   "name": "python3"
  },
  "language_info": {
   "codemirror_mode": {
    "name": "ipython",
    "version": 3
   },
   "file_extension": ".py",
   "mimetype": "text/x-python",
   "name": "python",
   "nbconvert_exporter": "python",
   "pygments_lexer": "ipython3",
   "version": "3.10.12"
  },
  "papermill": {
   "default_parameters": {},
   "duration": 89.514618,
   "end_time": "2023-11-06T22:37:10.648250",
   "environment_variables": {},
   "exception": null,
   "input_path": "__notebook__.ipynb",
   "output_path": "__notebook__.ipynb",
   "parameters": {},
   "start_time": "2023-11-06T22:35:41.133632",
   "version": "2.4.0"
  }
 },
 "nbformat": 4,
 "nbformat_minor": 5
}
